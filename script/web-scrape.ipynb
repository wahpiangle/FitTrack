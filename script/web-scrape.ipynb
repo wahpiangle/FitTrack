{
 "cells": [
  {
   "cell_type": "code",
   "execution_count": null,
   "metadata": {},
   "outputs": [],
   "source": [
    "from selenium import webdriver\n",
    "from selenium.webdriver.common.keys import Keys\n",
    "from selenium.webdriver.common.by import By\n",
    "driver = webdriver.Chrome()\n",
    "# get all the links from the website in links.txt\n",
    "\n",
    "for i in range(1, 74):\n",
    "    driver.get(\"https://www.inspireusafoundation.org/weightlifting/page/\" + str(i) + \"/\")\n",
    "\n",
    "    posts = driver.find_element(By.CLASS_NAME, value=\"oxy-posts\")\n",
    "    individual_posts = posts.find_elements(By.XPATH, '*')\n",
    "\n",
    "    for post in individual_posts:\n",
    "        #get children with class name of oxy-post-image\n",
    "        image = post.find_element(By.CLASS_NAME, value=\"oxy-post-image\")\n",
    "        #get href tag\n",
    "        link = image.get_attribute(\"href\")\n",
    "        #store links into a text file separated by new line\n",
    "        with open(\"links.txt\", \"a\") as f:\n",
    "            f.write(link + \"\\n\")\n",
    "\n",
    "#close browser\n",
    "driver.close()"
   ]
  },
  {
   "cell_type": "code",
   "execution_count": null,
   "metadata": {},
   "outputs": [],
   "source": [
    "from selenium import webdriver\n",
    "import requests\n",
    "from selenium.webdriver.common.keys import Keys\n",
    "from selenium.webdriver.common.by import By\n",
    "import os\n",
    "import urllib.request\n",
    "\n",
    "driver = webdriver.Chrome()\n",
    "\n",
    "def extractName(url):\n",
    "    return url.split(\"/\")[-1]\n",
    "\n",
    "with open(\"links.txt\", \"r\") as f:\n",
    "    links = f.readlines()\n",
    "    src_map={}\n",
    "    for link in links:\n",
    "        driver.get(link)\n",
    "        wp_block_image = driver.find_elements(By.CLASS_NAME, value=\"wp-block-image\")\n",
    "        for w in wp_block_image:\n",
    "            img = w.find_element(By.TAG_NAME, value=\"img\")\n",
    "            src = img.get_attribute(\"src\")\n",
    "            print(src)\n",
    "            if(src == None):\n",
    "                continue\n",
    "            if(src[-3:] == \"svg\"):\n",
    "                continue\n",
    "            ext = src[-3:]\n",
    "            src_map[src] = ext\n",
    "            #write down info in link_test.txt\n",
    "            with open(\"link_test.txt\", \"a\") as f:\n",
    "                f.write(src + \"\\n\")\n",
    "with open(\"link_test.txt\", \"r\") as f:\n",
    "    links = f.readlines()\n",
    "    for link in links:\n",
    "        driver.get(link)\n",
    "        fileName = extractName(link)[ : -5]\n",
    "        ext = link[-4:-1]\n",
    "        r = requests.get(link)\n",
    "        if not os.path.exists(ext):\n",
    "            os.makedirs(ext)\n",
    "        if(os.path.exists(f\"{ext}/\"+ fileName + \".\" + ext)):\n",
    "            continue\n",
    "        urllib.request.urlretrieve(link, f\"{ext}/\"+ fileName + \".\" + ext)\n",
    "\n",
    "driver.close()"
   ]
  }
 ],
 "metadata": {
  "kernelspec": {
   "display_name": "Python 3",
   "language": "python",
   "name": "python3"
  },
  "language_info": {
   "codemirror_mode": {
    "name": "ipython",
    "version": 3
   },
   "file_extension": ".py",
   "mimetype": "text/x-python",
   "name": "python",
   "nbconvert_exporter": "python",
   "pygments_lexer": "ipython3",
   "version": "3.11.3"
  }
 },
 "nbformat": 4,
 "nbformat_minor": 2
}
