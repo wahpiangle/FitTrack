{
 "cells": [
  {
   "cell_type": "code",
   "execution_count": 7,
   "metadata": {},
   "outputs": [
    {
     "name": "stdout",
     "output_type": "stream",
     "text": [
      "test_result\\barbell-hip-thrust-muscles-1024x366.png saved successfully!\n"
     ]
    }
   ],
   "source": [
    "from PIL import Image\n",
    "import os\n",
    "\n",
    "def crop_image(input_path, output_path):\n",
    "    with Image.open(input_path) as img:\n",
    "        width, height = img.size\n",
    "\n",
    "        if width >= 1024:\n",
    "            # Calculate the coordinates for cropping\n",
    "            left = 0\n",
    "            top = 0\n",
    "            right = left + 512\n",
    "            bottom = height\n",
    "\n",
    "            # Crop the image\n",
    "            cropped_img = img.crop((left, top, right, bottom))\n",
    "\n",
    "            # Save the cropped image\n",
    "            cropped_img.save(output_path)\n",
    "            print(f\"{output_path} saved successfully!\")\n",
    "        else:\n",
    "            print(\"Image is already 1024px or less in width.\")\n",
    "\n",
    "for file in os.listdir(\"test\"):\n",
    "    if file.endswith(\".png\"):\n",
    "        input_path = os.path.join(\"test\", file)\n",
    "        output_path = os.path.join(\"test_result\", file)\n",
    "        crop_image(input_path, output_path)\n"
   ]
  }
 ],
 "metadata": {
  "kernelspec": {
   "display_name": "Python 3",
   "language": "python",
   "name": "python3"
  },
  "language_info": {
   "codemirror_mode": {
    "name": "ipython",
    "version": 3
   },
   "file_extension": ".py",
   "mimetype": "text/x-python",
   "name": "python",
   "nbconvert_exporter": "python",
   "pygments_lexer": "ipython3",
   "version": "3.11.3"
  }
 },
 "nbformat": 4,
 "nbformat_minor": 2
}
