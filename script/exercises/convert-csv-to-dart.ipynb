{
 "cells": [
  {
   "cell_type": "code",
   "execution_count": null,
   "metadata": {},
   "outputs": [],
   "source": [
    "import pandas as pd\n",
    "\n",
    "df = pd.read_csv('exercises.csv')\n",
    "\n",
    "# output all rows into a dictionary of this format:\n",
    "# 'Bench Press (Barbell)': '['Description value]',\n",
    "for i in range(len(df)):\n",
    "    description = df.iloc[i,4]\n",
    "    description = description.split('\\n')\n",
    "    description = [string[3:] for string in description]\n",
    "    description = '\", \"'.join(description)\n",
    "    print(\"'\" + df.iloc[i, 0] + \"'\", \":\", \"[\\\"\" + description + \"\\\"],\")\n",
    "    \n",
    "# # output all rows into a dictionary of this format:\n",
    "# # 'Bench Press (Barbell)': {'Chest': 'Barbell'},\n",
    "# for i in range(len(df)):\n",
    "#     print(\"'\" + df.iloc[i, 0] + \"'\", \":\", {df.iloc[i, 1]: df.iloc[i, 2]},',')\n",
    "\n",
    "# # output all rows into a dictionary of this format:\n",
    "# # 'Bench Press (Barbell)': 'assets/exercises/barbell-bench.png',\n",
    "# for i in range(len(df)):\n",
    "#     print(\"'\" + df.iloc[i, 0] + \"'\", \":\", \"'assets/exercises/\" + df.iloc[i, 3] + \"',\")\n",
    "\n",
    "# # output all rows into a dictionary of this format:\n",
    "# # 'Bench Press (Barbell)': 'assets/exercises/barbell-bench-half.png',\n",
    "# for i in range(len(df)):\n",
    "#     image_name = df.iloc[i, 3].split('.')[0] + '-half.png'\n",
    "#     print(\"'\" + df.iloc[i, 0] + \"'\", \":\", \"'assets/exercises/\" + image_name + \"',\")"
   ]
  }
 ],
 "metadata": {
  "kernelspec": {
   "display_name": "Python 3",
   "language": "python",
   "name": "python3"
  },
  "language_info": {
   "codemirror_mode": {
    "name": "ipython",
    "version": 3
   },
   "file_extension": ".py",
   "mimetype": "text/x-python",
   "name": "python",
   "nbconvert_exporter": "python",
   "pygments_lexer": "ipython3",
   "version": "3.12.1"
  }
 },
 "nbformat": 4,
 "nbformat_minor": 2
}
